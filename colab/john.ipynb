{
 "cells": [
  {
   "cell_type": "markdown",
   "metadata": {},
   "source": [
    "# Google Colab test"
   ]
  },
  {
   "cell_type": "markdown",
   "metadata": {},
   "source": [
    "<a href=\"https://colab.research.google.com/github/bcjack12/public/blob/main/colab/john.ipynb\" target=\"_parent\"><img src=\"https://colab.research.google.com/assets/colab-badge.svg\" alt=\"Open In Colab\"/></a>"
   ]
  },
  {
   "cell_type": "code",
   "execution_count": 24,
   "metadata": {},
   "outputs": [],
   "source": [
    "#<a href=\"https://colab.research.google.com/github/bcjack12/public/blob/main/colab/john.ipynb\" target=\"_parent\\\"><img src=\"https://colab.research.google.com/assets/colab-badge.svg\" alt=\"Open In Colab\"/></a>\n",
    "\n",
    "#[![Open In Colab](https://colab.research.google.com/assets/colab-badge.svg)](https://colab.research.google.com/github/googlecolab/colabtools/blob/master/notebooks/colab-github-demo.ipynb)\n",
    "#<a href=\"https://colab.research.google.com/github/googlecolab/colabtools/blob/master/notebooks/colab-github-demo.ipynb\"> <img src=\"https://colab.research.google.com/assets/colab-badge.svg\" alt=\"Open In Colab\"/></a>\n",
    "#<a href=\"https://colab.research.google.com/github/stared/thinking-in-tensors-writing-in-pytorch/blob/master/2%20Gradient%20Descent.ipynb\" target=\"_parent\\\"><img src=\"https://colab.research.google.com/assets/colab-badge.svg\" alt=\"Open In Colab\"/></a>\n"
   ]
  },
  {
   "cell_type": "code",
   "execution_count": null,
   "metadata": {},
   "outputs": [],
   "source": [
    "#https://towardsdatascience.com/10-tips-for-a-better-google-colab-experience-33f8fe721b82\n",
    "%load_ext google.colab.data_table\n",
    "#%unload_ext google.colab.data_table"
   ]
  },
  {
   "cell_type": "code",
   "execution_count": 3,
   "metadata": {},
   "outputs": [],
   "source": [
    "import pandas as pd\n",
    "\n",
    "import numpy as np\n",
    "\n",
    " \n",
    "\n",
    "#df = pd.read_csv (r'/home/Book3.csv')\n",
    "\n",
    "#df =df.pivot(index='Name',columns='Age',values='Colour')\n",
    "\n",
    "#df.drop_duplicates(subset=['Age','Name','Colour'],keep='first',inplace=True)\n",
    "\n",
    "#df\n",
    "\n",
    "df = pd.DataFrame({'Name':('Jack.Lee','James.Lee','John.Lee','Joe.Lee','Pat.Lee','Jack.Lee','Jack.Lee','Pat.Lee','John.Lee','Joe.Lee','Pat.Lee','Jack.Lee','Jack.Lee','Pat.Lee','John.Lee','James.Lee','Joe.Lee','Jack.Lee','Pat.Lee','James.Lee','Joe.Lee','John.Lee'),\n",
    "\n",
    "                   'Age':('25','26','27','28','29','27','30','25','25','26','27','28','29','30','24','24','24','24','24','25','25','26'),\n",
    "\n",
    "                   'Colour':('Blue','Black','Red','Green','Purple','Red','Black','Black','Green','Purple','Red','Black','Black','Purple','Black','Red','Green','Purple','Red','Black','Black','Blue')})\n",
    "\n",
    "df1 = df.pivot_table(index='Name',columns='Age',values='Colour',aggfunc='first')\n",
    "\n",
    "df1.columns.name = None\n",
    "\n",
    "df1.reset_index(inplace=True)\n",
    "\n",
    "df1[['First','Last']] = df1.Name.str.split(\".\",expand=True,)\n",
    "\n",
    "df1.drop(columns='Name',inplace=True)\n",
    "\n",
    "cols_to_move = ['First', 'Last']\n",
    "\n",
    "df1           = df1[ cols_to_move + [ col for col in df1.columns if col not in cols_to_move ] ]\n",
    "\n",
    "df1['Missing']=(df1.count(axis=1))-2\n",
    "\n",
    "cols_to_3rd = ['Missing']\n",
    "\n",
    "df1           = df1[ cols_to_move + cols_to_3rd + [ col\n",
    "\n",
    "                                                   for col in df1.columns\n",
    "\n",
    "                                                      if ((col not in cols_to_move) and (col not in cols_to_3rd))] ]\n",
    "\n",
    "#grand = df1.apply(lambda x: df1.count(),axis=1) #works but displays as df\n",
    "\n",
    "#df1.replace(np.nan, '', regex=True,inplace=True)"
   ]
  },
  {
   "cell_type": "code",
   "execution_count": 4,
   "metadata": {
    "scrolled": false
   },
   "outputs": [],
   "source": [
    "df1.to_csv('temp.csv')"
   ]
  },
  {
   "cell_type": "code",
   "execution_count": 5,
   "metadata": {},
   "outputs": [
    {
     "data": {
      "text/html": [
       "<div>\n",
       "<style scoped>\n",
       "    .dataframe tbody tr th:only-of-type {\n",
       "        vertical-align: middle;\n",
       "    }\n",
       "\n",
       "    .dataframe tbody tr th {\n",
       "        vertical-align: top;\n",
       "    }\n",
       "\n",
       "    .dataframe thead th {\n",
       "        text-align: right;\n",
       "    }\n",
       "</style>\n",
       "<table border=\"1\" class=\"dataframe\">\n",
       "  <thead>\n",
       "    <tr style=\"text-align: right;\">\n",
       "      <th></th>\n",
       "      <th>First</th>\n",
       "      <th>Last</th>\n",
       "      <th>Missing</th>\n",
       "      <th>24</th>\n",
       "      <th>25</th>\n",
       "      <th>26</th>\n",
       "      <th>27</th>\n",
       "      <th>28</th>\n",
       "      <th>29</th>\n",
       "      <th>30</th>\n",
       "    </tr>\n",
       "  </thead>\n",
       "  <tbody>\n",
       "    <tr>\n",
       "      <th>0</th>\n",
       "      <td>Jack</td>\n",
       "      <td>Lee</td>\n",
       "      <td>6</td>\n",
       "      <td>Purple</td>\n",
       "      <td>Blue</td>\n",
       "      <td>NaN</td>\n",
       "      <td>Red</td>\n",
       "      <td>Black</td>\n",
       "      <td>Black</td>\n",
       "      <td>Black</td>\n",
       "    </tr>\n",
       "    <tr>\n",
       "      <th>1</th>\n",
       "      <td>James</td>\n",
       "      <td>Lee</td>\n",
       "      <td>3</td>\n",
       "      <td>Red</td>\n",
       "      <td>Black</td>\n",
       "      <td>Black</td>\n",
       "      <td>NaN</td>\n",
       "      <td>NaN</td>\n",
       "      <td>NaN</td>\n",
       "      <td>NaN</td>\n",
       "    </tr>\n",
       "    <tr>\n",
       "      <th>2</th>\n",
       "      <td>Joe</td>\n",
       "      <td>Lee</td>\n",
       "      <td>4</td>\n",
       "      <td>Green</td>\n",
       "      <td>Black</td>\n",
       "      <td>Purple</td>\n",
       "      <td>NaN</td>\n",
       "      <td>Green</td>\n",
       "      <td>NaN</td>\n",
       "      <td>NaN</td>\n",
       "    </tr>\n",
       "    <tr>\n",
       "      <th>3</th>\n",
       "      <td>John</td>\n",
       "      <td>Lee</td>\n",
       "      <td>4</td>\n",
       "      <td>Black</td>\n",
       "      <td>Green</td>\n",
       "      <td>Blue</td>\n",
       "      <td>Red</td>\n",
       "      <td>NaN</td>\n",
       "      <td>NaN</td>\n",
       "      <td>NaN</td>\n",
       "    </tr>\n",
       "    <tr>\n",
       "      <th>4</th>\n",
       "      <td>Pat</td>\n",
       "      <td>Lee</td>\n",
       "      <td>5</td>\n",
       "      <td>Red</td>\n",
       "      <td>Black</td>\n",
       "      <td>NaN</td>\n",
       "      <td>Red</td>\n",
       "      <td>NaN</td>\n",
       "      <td>Purple</td>\n",
       "      <td>Purple</td>\n",
       "    </tr>\n",
       "  </tbody>\n",
       "</table>\n",
       "</div>"
      ],
      "text/plain": [
       "   First Last  Missing      24     25      26   27     28      29      30\n",
       "0   Jack  Lee        6  Purple   Blue     NaN  Red  Black   Black   Black\n",
       "1  James  Lee        3     Red  Black   Black  NaN    NaN     NaN     NaN\n",
       "2    Joe  Lee        4   Green  Black  Purple  NaN  Green     NaN     NaN\n",
       "3   John  Lee        4   Black  Green    Blue  Red    NaN     NaN     NaN\n",
       "4    Pat  Lee        5     Red  Black     NaN  Red    NaN  Purple  Purple"
      ]
     },
     "execution_count": 5,
     "metadata": {},
     "output_type": "execute_result"
    }
   ],
   "source": [
    "df1"
   ]
  },
  {
   "cell_type": "code",
   "execution_count": 6,
   "metadata": {},
   "outputs": [
    {
     "data": {
      "text/plain": [
       "['', '', '', 5, 5, 3, 3, 2, 2, 2]"
      ]
     },
     "execution_count": 6,
     "metadata": {},
     "output_type": "execute_result"
    }
   ],
   "source": [
    "list_count = ['','',''] + list(df1.count()[3:])\n",
    "list_count\n",
    "\n"
   ]
  },
  {
   "cell_type": "code",
   "execution_count": 7,
   "metadata": {},
   "outputs": [
    {
     "data": {
      "text/plain": [
       "[['Jack', 'Lee', 6, 'Purple', 'Blue', nan, 'Red', 'Black', 'Black', 'Black'],\n",
       " ['James', 'Lee', 3, 'Red', 'Black', 'Black', nan, nan, nan, nan],\n",
       " ['Joe', 'Lee', 4, 'Green', 'Black', 'Purple', nan, 'Green', nan, nan],\n",
       " ['John', 'Lee', 4, 'Black', 'Green', 'Blue', 'Red', nan, nan, nan],\n",
       " ['Pat', 'Lee', 5, 'Red', 'Black', nan, 'Red', nan, 'Purple', 'Purple']]"
      ]
     },
     "execution_count": 7,
     "metadata": {},
     "output_type": "execute_result"
    }
   ],
   "source": [
    "df1.values.tolist()"
   ]
  },
  {
   "cell_type": "code",
   "execution_count": null,
   "metadata": {},
   "outputs": [],
   "source": []
  },
  {
   "cell_type": "code",
   "execution_count": 8,
   "metadata": {
    "scrolled": true
   },
   "outputs": [
    {
     "data": {
      "text/plain": [
       "['First', 'Last', 'Missing', '24', '25', '26', '27', '28', '29', '30']"
      ]
     },
     "execution_count": 8,
     "metadata": {},
     "output_type": "execute_result"
    }
   ],
   "source": [
    "list(df1.columns)"
   ]
  },
  {
   "cell_type": "code",
   "execution_count": 9,
   "metadata": {},
   "outputs": [
    {
     "data": {
      "text/plain": [
       "[['First', 'Last', 'Missing', '24', '25', '26', '27', '28', '29', '30'],\n",
       " ['Jack', 'Lee', 6, 'Purple', 'Blue', nan, 'Red', 'Black', 'Black', 'Black'],\n",
       " ['James', 'Lee', 3, 'Red', 'Black', 'Black', nan, nan, nan, nan],\n",
       " ['Joe', 'Lee', 4, 'Green', 'Black', 'Purple', nan, 'Green', nan, nan],\n",
       " ['John', 'Lee', 4, 'Black', 'Green', 'Blue', 'Red', nan, nan, nan],\n",
       " ['Pat', 'Lee', 5, 'Red', 'Black', nan, 'Red', nan, 'Purple', 'Purple']]"
      ]
     },
     "execution_count": 9,
     "metadata": {},
     "output_type": "execute_result"
    }
   ],
   "source": [
    "l = df1.values.tolist()\n",
    "l.insert(0, list(df1.columns))\n",
    "l"
   ]
  },
  {
   "cell_type": "code",
   "execution_count": 10,
   "metadata": {},
   "outputs": [
    {
     "data": {
      "text/html": [
       "<div>\n",
       "<style scoped>\n",
       "    .dataframe tbody tr th:only-of-type {\n",
       "        vertical-align: middle;\n",
       "    }\n",
       "\n",
       "    .dataframe tbody tr th {\n",
       "        vertical-align: top;\n",
       "    }\n",
       "\n",
       "    .dataframe thead th {\n",
       "        text-align: right;\n",
       "    }\n",
       "</style>\n",
       "<table border=\"1\" class=\"dataframe\">\n",
       "  <thead>\n",
       "    <tr style=\"text-align: right;\">\n",
       "      <th></th>\n",
       "      <th></th>\n",
       "      <th></th>\n",
       "      <th></th>\n",
       "      <th>5</th>\n",
       "      <th>5</th>\n",
       "      <th>3</th>\n",
       "      <th>3</th>\n",
       "      <th>2</th>\n",
       "      <th>2</th>\n",
       "      <th>2</th>\n",
       "    </tr>\n",
       "  </thead>\n",
       "  <tbody>\n",
       "    <tr>\n",
       "      <th>0</th>\n",
       "      <td>First</td>\n",
       "      <td>Last</td>\n",
       "      <td>Missing</td>\n",
       "      <td>24</td>\n",
       "      <td>25</td>\n",
       "      <td>26</td>\n",
       "      <td>27</td>\n",
       "      <td>28</td>\n",
       "      <td>29</td>\n",
       "      <td>30</td>\n",
       "    </tr>\n",
       "    <tr>\n",
       "      <th>1</th>\n",
       "      <td>Jack</td>\n",
       "      <td>Lee</td>\n",
       "      <td>6</td>\n",
       "      <td>Purple</td>\n",
       "      <td>Blue</td>\n",
       "      <td>NaN</td>\n",
       "      <td>Red</td>\n",
       "      <td>Black</td>\n",
       "      <td>Black</td>\n",
       "      <td>Black</td>\n",
       "    </tr>\n",
       "    <tr>\n",
       "      <th>2</th>\n",
       "      <td>James</td>\n",
       "      <td>Lee</td>\n",
       "      <td>3</td>\n",
       "      <td>Red</td>\n",
       "      <td>Black</td>\n",
       "      <td>Black</td>\n",
       "      <td>NaN</td>\n",
       "      <td>NaN</td>\n",
       "      <td>NaN</td>\n",
       "      <td>NaN</td>\n",
       "    </tr>\n",
       "    <tr>\n",
       "      <th>3</th>\n",
       "      <td>Joe</td>\n",
       "      <td>Lee</td>\n",
       "      <td>4</td>\n",
       "      <td>Green</td>\n",
       "      <td>Black</td>\n",
       "      <td>Purple</td>\n",
       "      <td>NaN</td>\n",
       "      <td>Green</td>\n",
       "      <td>NaN</td>\n",
       "      <td>NaN</td>\n",
       "    </tr>\n",
       "    <tr>\n",
       "      <th>4</th>\n",
       "      <td>John</td>\n",
       "      <td>Lee</td>\n",
       "      <td>4</td>\n",
       "      <td>Black</td>\n",
       "      <td>Green</td>\n",
       "      <td>Blue</td>\n",
       "      <td>Red</td>\n",
       "      <td>NaN</td>\n",
       "      <td>NaN</td>\n",
       "      <td>NaN</td>\n",
       "    </tr>\n",
       "    <tr>\n",
       "      <th>5</th>\n",
       "      <td>Pat</td>\n",
       "      <td>Lee</td>\n",
       "      <td>5</td>\n",
       "      <td>Red</td>\n",
       "      <td>Black</td>\n",
       "      <td>NaN</td>\n",
       "      <td>Red</td>\n",
       "      <td>NaN</td>\n",
       "      <td>Purple</td>\n",
       "      <td>Purple</td>\n",
       "    </tr>\n",
       "  </tbody>\n",
       "</table>\n",
       "</div>"
      ],
      "text/plain": [
       "                              5      5       3    3      2       2       2\n",
       "0  First  Last  Missing      24     25      26   27     28      29      30\n",
       "1   Jack   Lee        6  Purple   Blue     NaN  Red  Black   Black   Black\n",
       "2  James   Lee        3     Red  Black   Black  NaN    NaN     NaN     NaN\n",
       "3    Joe   Lee        4   Green  Black  Purple  NaN  Green     NaN     NaN\n",
       "4   John   Lee        4   Black  Green    Blue  Red    NaN     NaN     NaN\n",
       "5    Pat   Lee        5     Red  Black     NaN  Red    NaN  Purple  Purple"
      ]
     },
     "execution_count": 10,
     "metadata": {},
     "output_type": "execute_result"
    }
   ],
   "source": [
    "sales = l\n",
    "labels = list_count\n",
    "df = pd.DataFrame.from_records(sales, columns=labels)\n",
    "df.to_csv('temp.csv')\n",
    "df"
   ]
  },
  {
   "cell_type": "code",
   "execution_count": 1,
   "metadata": {},
   "outputs": [
    {
     "data": {
      "image/png": "[encoded data removed]",
      "text/plain": [
       "<Figure size 432x288 with 1 Axes>"
      ]
     },
     "metadata": {
      "needs_background": "light"
     },
     "output_type": "display_data"
    }
   ],
   "source": [
    "import numpy as np\n",
    "from matplotlib import pyplot as plt\n",
    "\n",
    "ys = 200 + np.random.randn(100)\n",
    "x = [x for x in range(len(ys))]\n",
    "\n",
    "plt.plot(x, ys, '-')\n",
    "plt.fill_between(x, ys, 195, where=(ys > 195), facecolor='g', alpha=0.6)\n",
    "\n",
    "plt.title(\"Sample Visualization\")\n",
    "plt.show()"
   ]
  },
  {
   "cell_type": "code",
   "execution_count": null,
   "metadata": {},
   "outputs": [],
   "source": []
  }
 ],
 "metadata": {
  "kernelspec": {
   "display_name": "Python 3",
   "language": "python",
   "name": "python3"
  },
  "language_info": {
   "codemirror_mode": {
    "name": "ipython",
    "version": 3
   },
   "file_extension": ".py",
   "mimetype": "text/x-python",
   "name": "python",
   "nbconvert_exporter": "python",
   "pygments_lexer": "ipython3",
   "version": "3.7.4"
  }
 },
 "nbformat": 4,
 "nbformat_minor": 4
}
